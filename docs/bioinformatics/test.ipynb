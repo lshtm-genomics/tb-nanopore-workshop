{
 "cells": [
  {
   "cell_type": "code",
   "execution_count": 19,
   "metadata": {},
   "outputs": [],
   "source": [
    "sequence = 'ACTGACGTGACGTAGATGCGAGCTGAGCTCAGTATTGATGTCGTCGTACGGGCATCAGAGCTAG'"
   ]
  },
  {
   "cell_type": "code",
   "execution_count": 20,
   "metadata": {},
   "outputs": [
    {
     "data": {
      "text/plain": [
       "64"
      ]
     },
     "execution_count": 20,
     "metadata": {},
     "output_type": "execute_result"
    }
   ],
   "source": [
    "len(sequence)"
   ]
  },
  {
   "cell_type": "code",
   "execution_count": 21,
   "metadata": {},
   "outputs": [],
   "source": [
    "def reads(seq):\n",
    "    for i in range(0,len(seq),3):\n",
    "        print(seq[i:i+10])"
   ]
  },
  {
   "cell_type": "code",
   "execution_count": 22,
   "metadata": {},
   "outputs": [
    {
     "name": "stdout",
     "output_type": "stream",
     "text": [
      "ACTGACGTGA\n",
      "GACGTGACGT\n",
      "GTGACGTAGA\n",
      "ACGTAGATGC\n",
      "TAGATGCGAG\n",
      "ATGCGAGCTG\n",
      "CGAGCTGAGC\n",
      "GCTGAGCTCA\n",
      "GAGCTCAGTA\n",
      "CTCAGTATTG\n",
      "AGTATTGATG\n",
      "ATTGATGTCG\n",
      "GATGTCGTCG\n",
      "GTCGTCGTAC\n",
      "GTCGTACGAG\n",
      "GTACGAGCAT\n",
      "CGAGCATCAG\n",
      "GCATCAGAGC\n",
      "TCAGAGCTAG\n",
      "GAGCTAG\n",
      "CTAG\n",
      "G\n"
     ]
    }
   ],
   "source": [
    "reads(seq=sequence)"
   ]
  },
  {
   "cell_type": "code",
   "execution_count": null,
   "metadata": {},
   "outputs": [],
   "source": []
  }
 ],
 "metadata": {
  "kernelspec": {
   "display_name": "pp",
   "language": "python",
   "name": "python3"
  },
  "language_info": {
   "codemirror_mode": {
    "name": "ipython",
    "version": 3
   },
   "file_extension": ".py",
   "mimetype": "text/x-python",
   "name": "python",
   "nbconvert_exporter": "python",
   "pygments_lexer": "ipython3",
   "version": "3.10.8"
  },
  "orig_nbformat": 4
 },
 "nbformat": 4,
 "nbformat_minor": 2
}
